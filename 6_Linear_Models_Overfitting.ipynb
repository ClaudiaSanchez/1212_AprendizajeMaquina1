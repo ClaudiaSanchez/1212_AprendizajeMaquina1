{
 "cells": [
  {
   "cell_type": "markdown",
   "metadata": {},
   "source": [
    "# Overfitting\n",
    "\n",
    "The overfitting in a supervised learning algorithm indicates how much the model __learns__ or __fits__ the training data.\n",
    "\n",
    "<img src=\"images/6_overfitting.png\">\n",
    "\n",
    "It is a clear tendency:\n",
    "- If the model is too simple $\\rightarrow$ there is an underfitting model\n",
    "- If the model is too complex $\\rightarrow$ there is an overfitting model\n",
    "\n",
    "The difference between the correct model and the overfitted model is very clear:\n",
    "\n",
    "<img src=\"images/6_overfitting_model.png\">"
   ]
  },
  {
   "cell_type": "markdown",
   "metadata": {},
   "source": [
    "## How to solve the overfitting?\n",
    "\n",
    "From a complex model to a simpler one:\n",
    "\n",
    "<img src=\"images/6_overfitting_simplification.png\">\n",
    "\n",
    "We can penalize some features in the optimization problem to simplify the model:\n",
    "\n",
    "$ min_\\theta J(\\theta) =  \\frac{1}{2} \\sum_i Cost( h(x), y ) + 1000\\theta_3 + 1000\\theta_4 $\n",
    "\n",
    "However, it is difficult (or impossible) to know what parameters are the ones who need to be 0, for that reason, the optimization problem is rewritten as:\n",
    "\n",
    "$ min_\\theta J(\\theta) =  \\frac{1}{2} \\sum_i Cost( h(x), y ) + \\lambda \\sum_j \\theta_j^2 $\n",
    "\n",
    "In this case, $\\lambda$ is and hyperparameter that defines the importance of having a simple model. If $\\lambda=0$ then we have a model that can be overfitting, if $\\lambda≫0$ then the most important in the optimization problem is to have a simple model.\n"
   ]
  }
 ],
 "metadata": {
  "kernelspec": {
   "display_name": "Python 3",
   "language": "python",
   "name": "python3"
  },
  "language_info": {
   "codemirror_mode": {
    "name": "ipython",
    "version": 3
   },
   "file_extension": ".py",
   "mimetype": "text/x-python",
   "name": "python",
   "nbconvert_exporter": "python",
   "pygments_lexer": "ipython3",
   "version": "3.7.6"
  }
 },
 "nbformat": 4,
 "nbformat_minor": 4
}
