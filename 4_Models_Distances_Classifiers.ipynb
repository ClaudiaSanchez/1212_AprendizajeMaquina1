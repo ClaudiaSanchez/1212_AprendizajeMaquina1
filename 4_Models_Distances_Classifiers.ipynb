{
 "cells": [
  {
   "cell_type": "markdown",
   "metadata": {},
   "source": [
    "# Models based on distances"
   ]
  },
  {
   "cell_type": "markdown",
   "metadata": {},
   "source": [
    "A __distance__ is the amount of space between two samples. Formally, a distance is a function with the following characteristics:\n",
    "\n",
    "- It is not negative $D(x,y) >= 0, \\forall_{x,y}$\n",
    "\n",
    "- It is symmetric $D(x,y) = D(y,x), \\forall_{x,y}$\n",
    "\n",
    "- It satisfies the triangle inequality $D(x,y) <= D(x,z) + D(z,y), \\forall{x,y,z}$\n",
    "\n",
    "- The distance between a sample and itself is 0 $D(x,x) = 0, \\forall_x$\n"
   ]
  },
  {
   "cell_type": "markdown",
   "metadata": {},
   "source": [
    "# k- Nearest Neighbors (kNN)\n",
    "Supervised learning: classification\n",
    "Variable type: all\n",
    "\n",
    "It is a simple classifier that assigns the label that corresponds to the mode of the k nearest neighbors. It is sensible to the value of k.\n",
    "\n",
    "<img src=\"images/4_knn.jpeg\">\n",
    "Imagen tomada de: https://towardsdatascience.com/building-a-k-nearest-neighbors-k-nn-model-with-scikit-learn-51209555453a\n",
    "\n",
    "__Disadvantage__: It is very complex because when a sample has to be predicted, it needs to calculate the distance against all the training samples to find the k nearest neighbors."
   ]
  },
  {
   "cell_type": "markdown",
   "metadata": {},
   "source": [
    "    Input\n",
    "        training set\n",
    "        k: number of neighbors\n",
    "        sample to be predicted\n",
    "    Begin\n",
    "        Get the k nearest neighbors to the sample to be predicted\n",
    "        Return the label that corresponds to the mode of the k nearest neighbors labels\n",
    "    End"
   ]
  },
  {
   "cell_type": "markdown",
   "metadata": {},
   "source": [
    "# Nearest Centroid (NC)\n",
    "Supervised learning: classification\n",
    "Variable type: all\n",
    "\n",
    "It is a simple classifier that represents each class by the centroid of its samples. It assigns the label that corresponds to the class whose centroid is the nearest to the sample to be predicted.\n",
    "\n",
    "<img src=\"images/4_nc.jpg\">\n",
    "\n",
    "__Disadvantage__: The problem is that it assumes unimodal distributions on the classes. "
   ]
  },
  {
   "cell_type": "code",
   "execution_count": null,
   "metadata": {},
   "outputs": [],
   "source": []
  }
 ],
 "metadata": {
  "kernelspec": {
   "display_name": "Python 3",
   "language": "python",
   "name": "python3"
  },
  "language_info": {
   "codemirror_mode": {
    "name": "ipython",
    "version": 3
   },
   "file_extension": ".py",
   "mimetype": "text/x-python",
   "name": "python",
   "nbconvert_exporter": "python",
   "pygments_lexer": "ipython3",
   "version": "3.7.6"
  }
 },
 "nbformat": 4,
 "nbformat_minor": 4
}
