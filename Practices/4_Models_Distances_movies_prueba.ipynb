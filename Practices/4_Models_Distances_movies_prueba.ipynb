{
 "cells": [
  {
   "cell_type": "code",
   "execution_count": 1,
   "metadata": {},
   "outputs": [],
   "source": [
    "import pandas\n",
    "import numpy as np"
   ]
  },
  {
   "cell_type": "code",
   "execution_count": 2,
   "metadata": {},
   "outputs": [
    {
     "data": {
      "text/html": [
       "<div>\n",
       "<style scoped>\n",
       "    .dataframe tbody tr th:only-of-type {\n",
       "        vertical-align: middle;\n",
       "    }\n",
       "\n",
       "    .dataframe tbody tr th {\n",
       "        vertical-align: top;\n",
       "    }\n",
       "\n",
       "    .dataframe thead th {\n",
       "        text-align: right;\n",
       "    }\n",
       "</style>\n",
       "<table border=\"1\" class=\"dataframe\">\n",
       "  <thead>\n",
       "    <tr style=\"text-align: right;\">\n",
       "      <th></th>\n",
       "      <th>0</th>\n",
       "      <th>1</th>\n",
       "      <th>2</th>\n",
       "      <th>3</th>\n",
       "    </tr>\n",
       "  </thead>\n",
       "  <tbody>\n",
       "    <tr>\n",
       "      <th>0</th>\n",
       "      <td>196</td>\n",
       "      <td>242</td>\n",
       "      <td>3</td>\n",
       "      <td>881250949</td>\n",
       "    </tr>\n",
       "    <tr>\n",
       "      <th>1</th>\n",
       "      <td>186</td>\n",
       "      <td>302</td>\n",
       "      <td>3</td>\n",
       "      <td>891717742</td>\n",
       "    </tr>\n",
       "    <tr>\n",
       "      <th>2</th>\n",
       "      <td>22</td>\n",
       "      <td>377</td>\n",
       "      <td>1</td>\n",
       "      <td>878887116</td>\n",
       "    </tr>\n",
       "    <tr>\n",
       "      <th>3</th>\n",
       "      <td>244</td>\n",
       "      <td>51</td>\n",
       "      <td>2</td>\n",
       "      <td>880606923</td>\n",
       "    </tr>\n",
       "    <tr>\n",
       "      <th>4</th>\n",
       "      <td>166</td>\n",
       "      <td>346</td>\n",
       "      <td>1</td>\n",
       "      <td>886397596</td>\n",
       "    </tr>\n",
       "    <tr>\n",
       "      <th>...</th>\n",
       "      <td>...</td>\n",
       "      <td>...</td>\n",
       "      <td>...</td>\n",
       "      <td>...</td>\n",
       "    </tr>\n",
       "    <tr>\n",
       "      <th>99995</th>\n",
       "      <td>880</td>\n",
       "      <td>476</td>\n",
       "      <td>3</td>\n",
       "      <td>880175444</td>\n",
       "    </tr>\n",
       "    <tr>\n",
       "      <th>99996</th>\n",
       "      <td>716</td>\n",
       "      <td>204</td>\n",
       "      <td>5</td>\n",
       "      <td>879795543</td>\n",
       "    </tr>\n",
       "    <tr>\n",
       "      <th>99997</th>\n",
       "      <td>276</td>\n",
       "      <td>1090</td>\n",
       "      <td>1</td>\n",
       "      <td>874795795</td>\n",
       "    </tr>\n",
       "    <tr>\n",
       "      <th>99998</th>\n",
       "      <td>13</td>\n",
       "      <td>225</td>\n",
       "      <td>2</td>\n",
       "      <td>882399156</td>\n",
       "    </tr>\n",
       "    <tr>\n",
       "      <th>99999</th>\n",
       "      <td>12</td>\n",
       "      <td>203</td>\n",
       "      <td>3</td>\n",
       "      <td>879959583</td>\n",
       "    </tr>\n",
       "  </tbody>\n",
       "</table>\n",
       "<p>100000 rows × 4 columns</p>\n",
       "</div>"
      ],
      "text/plain": [
       "         0     1  2          3\n",
       "0      196   242  3  881250949\n",
       "1      186   302  3  891717742\n",
       "2       22   377  1  878887116\n",
       "3      244    51  2  880606923\n",
       "4      166   346  1  886397596\n",
       "...    ...   ... ..        ...\n",
       "99995  880   476  3  880175444\n",
       "99996  716   204  5  879795543\n",
       "99997  276  1090  1  874795795\n",
       "99998   13   225  2  882399156\n",
       "99999   12   203  3  879959583\n",
       "\n",
       "[100000 rows x 4 columns]"
      ]
     },
     "execution_count": 2,
     "metadata": {},
     "output_type": "execute_result"
    }
   ],
   "source": [
    "dfmoviesusers = pandas.read_csv('../Datasets/movies/movies_users.txt',sep='\\t',header=None)\n",
    "dfmoviesusers"
   ]
  },
  {
   "cell_type": "markdown",
   "metadata": {},
   "source": [
    "### Matrix of evaluations\n",
    "\n",
    "|         | User 1 | User 2 | User 3 | User 4 | ...    |\n",
    "|---------|--------|--------|--------|--------|--------|\n",
    "| Movie 1 | 1      | 5      | 2      | 1      | ...    |    \n",
    "| Movie 2 | 5      | 0      | 3      | 0      | ...    |\n",
    "| Movie 3 | 2      | 1      | 0      | 2      | ...    |\n",
    "| ...     | ...    | ...    | ...    | ...    | ...    |"
   ]
  },
  {
   "cell_type": "code",
   "execution_count": 3,
   "metadata": {},
   "outputs": [],
   "source": [
    "nusers = 943\n",
    "nmovies = 1682\n",
    "m = np.zeros((nmovies,nusers))\n",
    "for row in dfmoviesusers.values:\n",
    "    user = row[0]\n",
    "    movie = row[1]\n",
    "    ev = row[2]\n",
    "    m[movie-1,user-1] = ev"
   ]
  },
  {
   "cell_type": "code",
   "execution_count": 4,
   "metadata": {},
   "outputs": [
    {
     "name": "stdout",
     "output_type": "stream",
     "text": [
      "['Toy Story (1995)' 'GoldenEye (1995)' 'Four Rooms (1995)' ...\n",
      " 'Sliding Doors (1998)' 'You So Crazy (1994)'\n",
      " 'Scream of Stone (Schrei aus Stein) (1991)']\n"
     ]
    }
   ],
   "source": [
    "dfmovies = pandas.read_csv('../Datasets/movies/movies_description.txt',sep='|',header=None)\n",
    "names = dfmovies.values[:,1]\n",
    "print(names)"
   ]
  },
  {
   "cell_type": "code",
   "execution_count": 6,
   "metadata": {},
   "outputs": [],
   "source": [
    "dfm = pandas.DataFrame(m,index=names)\n",
    "dfm.to_csv('../Datasets/movies/movies_evaluations.csv')"
   ]
  },
  {
   "cell_type": "markdown",
   "metadata": {},
   "source": [
    "### Filtering movies and users "
   ]
  },
  {
   "cell_type": "code",
   "execution_count": 11,
   "metadata": {},
   "outputs": [],
   "source": [
    "moviesEval = np.zeros((nmovies))\n",
    "usersEval = np.zeros((nusers))\n",
    "for i in range(nmovies):\n",
    "    moviesEval[i] = np.sum(m[i,:]!=0)\n",
    "for i in range(nusers):\n",
    "    usersEval[i] = np.sum(m[:,i]!=0)\n",
    "idxMovies = np.argsort(moviesEval)\n",
    "idxUsers = np.argsort(usersEval)\n",
    "idxMovies = idxMovies[-50:]\n",
    "idxUsers= idxUsers[-50:]\n"
   ]
  },
  {
   "cell_type": "code",
   "execution_count": 12,
   "metadata": {},
   "outputs": [],
   "source": [
    "mf = m[idxMovies,:]\n",
    "mf = mf[:,idxUsers]\n",
    "namesf = names[idxMovies]\n",
    "\n",
    "dfmf = pandas.DataFrame(mf,index=namesf)\n",
    "dfmf.to_csv('../Datasets/movies/movies_evaluations.csv')"
   ]
  }
 ],
 "metadata": {
  "kernelspec": {
   "display_name": "Python 3",
   "language": "python",
   "name": "python3"
  },
  "language_info": {
   "codemirror_mode": {
    "name": "ipython",
    "version": 3
   },
   "file_extension": ".py",
   "mimetype": "text/x-python",
   "name": "python",
   "nbconvert_exporter": "python",
   "pygments_lexer": "ipython3",
   "version": "3.7.6"
  }
 },
 "nbformat": 4,
 "nbformat_minor": 4
}
