{
 "cells": [
  {
   "cell_type": "code",
   "execution_count": 1,
   "metadata": {},
   "outputs": [],
   "source": [
    "import numpy as np\n",
    "from sklearn.naive_bayes import BernoulliNB\n",
    "from sklearn.svm import SVC\n",
    "from sklearn.ensemble import RandomForestClassifier\n",
    "from sklearn.metrics import accuracy_score"
   ]
  },
  {
   "cell_type": "code",
   "execution_count": 17,
   "metadata": {},
   "outputs": [
    {
     "name": "stdout",
     "output_type": "stream",
     "text": [
      "words 63162\n",
      "ntrain 1596\n",
      "ntest 398\n"
     ]
    }
   ],
   "source": [
    "path = '../Datasets/texto/'\n",
    "words = set()\n",
    "ntrain = 0\n",
    "ntest = 0\n",
    "with open(path+\"train.positive\",\"r\") as file:\n",
    "    for line in file:\n",
    "        words = words.union( set(line.split()) )\n",
    "        ntrain += 1\n",
    "with open(path+\"train.negative\",\"r\") as file:\n",
    "    for line in file:\n",
    "        words = words.union( set(line.split()) )\n",
    "        ntrain += 1\n",
    "with open(path+\"test.positive\",\"r\") as file:\n",
    "    for line in file:\n",
    "        words = words.union( set(line.split()) )\n",
    "        ntest += 1\n",
    "with open(path+\"test.negative\",\"r\") as file:\n",
    "    for line in file:\n",
    "        words = words.union( set(line.split()) )\n",
    "        ntest += 1\n",
    "print('words',len(words))\n",
    "print('ntrain',ntrain)\n",
    "print('ntest',ntest)"
   ]
  },
  {
   "cell_type": "markdown",
   "metadata": {},
   "source": [
    "# Bag of words"
   ]
  },
  {
   "cell_type": "code",
   "execution_count": 19,
   "metadata": {},
   "outputs": [],
   "source": [
    "bw_train = np.zeros((ntrain,len(words)))\n",
    "bw_test = np.zeros((ntest,len(words)))\n",
    "ytrain = np.zeros((ntrain))\n",
    "ytest = np.zeros((ntest))"
   ]
  },
  {
   "cell_type": "code",
   "execution_count": 20,
   "metadata": {},
   "outputs": [],
   "source": [
    "index_words = {}\n",
    "for i,word in enumerate(words):\n",
    "    index_words[word] = i"
   ]
  },
  {
   "cell_type": "code",
   "execution_count": 22,
   "metadata": {},
   "outputs": [
    {
     "name": "stdout",
     "output_type": "stream",
     "text": [
      "24796\n"
     ]
    }
   ],
   "source": [
    "print(  index_words['really__like'] )"
   ]
  },
  {
   "cell_type": "code",
   "execution_count": 30,
   "metadata": {},
   "outputs": [],
   "source": [
    "itrain = 0\n",
    "with open(path+\"train.positive\",\"r\") as file:\n",
    "    for line in file:\n",
    "        for word in line.split():\n",
    "            bw_train[itrain, index_words[word]] = 1\n",
    "        ytrain[itrain] = 1\n",
    "        itrain += 1\n",
    "with open(path+\"train.negative\",\"r\") as file:\n",
    "    for line in file:\n",
    "        for word in line.split():\n",
    "            bw_train[itrain, index_words[word]] = 1\n",
    "        ytrain[itrain] = -1\n",
    "        itrain += 1\n",
    "\n",
    "itest = 0\n",
    "with open(path+\"test.positive\",\"r\") as file:\n",
    "    for line in file:\n",
    "        for word in line.split():\n",
    "            bw_test[itest, index_words[word]] = 1\n",
    "        ytest[itest] = 1\n",
    "        itest += 1\n",
    "with open(path+\"test.negative\",\"r\") as file:\n",
    "    for line in file:\n",
    "        for word in line.split():\n",
    "            bw_test[itest, index_words[word]] = 1\n",
    "        ytest[itest] = -1\n",
    "        itest += 1\n"
   ]
  },
  {
   "cell_type": "code",
   "execution_count": 31,
   "metadata": {},
   "outputs": [
    {
     "name": "stdout",
     "output_type": "stream",
     "text": [
      "bw_train (1596, 63162)\n",
      "bw_test (398, 63162)\n"
     ]
    }
   ],
   "source": [
    "print('bw_train',bw_train.shape)\n",
    "print('bw_test',bw_test.shape)"
   ]
  },
  {
   "cell_type": "markdown",
   "metadata": {},
   "source": [
    "# Naive Bayes"
   ]
  },
  {
   "cell_type": "code",
   "execution_count": 32,
   "metadata": {},
   "outputs": [],
   "source": [
    "model = BernoulliNB()\n",
    "model.fit(bw_train,ytrain)\n",
    "ypred = model.predict(bw_test)"
   ]
  },
  {
   "cell_type": "code",
   "execution_count": 33,
   "metadata": {},
   "outputs": [
    {
     "name": "stdout",
     "output_type": "stream",
     "text": [
      "Accuracy 0.8165829145728644\n"
     ]
    }
   ],
   "source": [
    "print('Accuracy',accuracy_score(ytest,ypred))"
   ]
  },
  {
   "cell_type": "markdown",
   "metadata": {},
   "source": [
    "# Otros modelos"
   ]
  },
  {
   "cell_type": "code",
   "execution_count": 34,
   "metadata": {},
   "outputs": [],
   "source": [
    "model = RandomForestClassifier()\n",
    "model.fit(bw_train,ytrain)\n",
    "ypred = model.predict(bw_test)"
   ]
  },
  {
   "cell_type": "code",
   "execution_count": 35,
   "metadata": {},
   "outputs": [
    {
     "name": "stdout",
     "output_type": "stream",
     "text": [
      "Accuracy 0.8492462311557789\n"
     ]
    }
   ],
   "source": [
    "print('Accuracy',accuracy_score(ytest,ypred))"
   ]
  },
  {
   "cell_type": "code",
   "execution_count": null,
   "metadata": {},
   "outputs": [],
   "source": []
  }
 ],
 "metadata": {
  "kernelspec": {
   "display_name": "Python 3",
   "language": "python",
   "name": "python3"
  },
  "language_info": {
   "codemirror_mode": {
    "name": "ipython",
    "version": 3
   },
   "file_extension": ".py",
   "mimetype": "text/x-python",
   "name": "python",
   "nbconvert_exporter": "python",
   "pygments_lexer": "ipython3",
   "version": "3.7.6"
  }
 },
 "nbformat": 4,
 "nbformat_minor": 4
}
