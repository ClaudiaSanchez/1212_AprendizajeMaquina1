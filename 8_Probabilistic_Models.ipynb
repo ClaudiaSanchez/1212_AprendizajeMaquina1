{
 "cells": [
  {
   "cell_type": "markdown",
   "metadata": {},
   "source": [
    "# Probability Review\n",
    "\n",
    "### Conditional Probability\n",
    "\n",
    "Conditional probability is a measure of the probability of an event (some particular situation occurring) given that another event has occurred. The conditional probability of an event A occurs given the event B is:\n",
    "\n",
    "$ P(A\\B) = \\frac{A ^ B)}{P(B)}$\n",
    "\n",
    "<img src=\"images/8_conditionalprobability_example.png\">\n",
    "\n",
    "### Independence\n",
    "\n",
    "Two events are independent, statistically independent, if the occurrence of one does not affect the probability of occurrence of the other. Examples:\n",
    "\n",
    "Independent events:\n",
    "- Throw coins, the result of coins is independent of each other.\n",
    "- The probability of rain is independent of passing the math test.\n",
    "\n",
    "Dependent events:\n",
    "- The probability of rain depends on the quantity of clouds.\n",
    "- The hair color depends on age.\n",
    "\n",
    "The events A and B are independent if and only if:\n",
    "\n",
    "$ P(A ^ B) = P(A)P(B)$\n",
    "\n",
    "### Bayes' theorem\n",
    "\n",
    "It describes the probability of an event, based on prior knowledge of conditions that might be related to the event.\n",
    "\n",
    "$ P(A\\B) = \\frac{ P(B\\A)P(A) }{ P(B) }$\n",
    "\n",
    "### Total probability\n",
    "\n",
    "$P(A) = \\sum_i P(A\\B_i)P(B_i)$\n",
    "\n",
    "<img src=\"images/8_totalprobability_example.png\">"
   ]
  },
  {
   "cell_type": "markdown",
   "metadata": {},
   "source": [
    "# Naive Bayes\n",
    "\n",
    "$P(A) = \\sum_i P(A\\B_i)P(B_i)$\n",
    "\n",
    "Naive Bayes is a classifier based on applying Bayes’ theorem with the __naive__ assumption of independence between every pair of features.\n",
    "\n",
    "<img src=\"images/8_nb.png\">\n",
    "\n",
    "### Gaussian Naive Bayes (coninuous variables)\n",
    "\n",
    "For continuous variables, it is simple to assume that variables follows a Gaussian distribution. In this case:\n",
    "\n",
    "<img src=\"images/8_nb_gaussian.png\">\n",
    "\n",
    "### Bernoulli Naive Bayes (binary variables)\n",
    "\n",
    "It is the Naive Bayes version where the all features are binary.\n",
    "\n",
    "<img src=\"images/8_nb_bernoulli1.png\">\n",
    "<img src=\"images/8_nb_bernoulli2.png\">\n",
    "\n",
    "### Example\n",
    "<img src=\"images/8_bagofwords.png\">"
   ]
  }
 ],
 "metadata": {
  "kernelspec": {
   "display_name": "Python 3",
   "language": "python",
   "name": "python3"
  },
  "language_info": {
   "codemirror_mode": {
    "name": "ipython",
    "version": 3
   },
   "file_extension": ".py",
   "mimetype": "text/x-python",
   "name": "python",
   "nbconvert_exporter": "python",
   "pygments_lexer": "ipython3",
   "version": "3.7.6"
  }
 },
 "nbformat": 4,
 "nbformat_minor": 4
}
