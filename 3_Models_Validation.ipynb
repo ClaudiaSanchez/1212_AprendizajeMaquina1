{
 "cells": [
  {
   "cell_type": "markdown",
   "metadata": {},
   "source": [
    "# Models Validation"
   ]
  },
  {
   "cell_type": "markdown",
   "metadata": {},
   "source": [
    "When we create a classification or regression model, we need to measure our model performance. For that, we divide the data into training and test sets.\n",
    "\n",
    "<img src=\"images/3_input_output_variable.png\">\n",
    "\n",
    "To divide the dataset, we randomly shuffle the samples and divide them into training and test sets. Traditionally, it could be 70% for training and 30% for testing.\n",
    "\n",
    "<img src=\"images/3_training_test_sets.png\">\n",
    "\n",
    "The main idea is to fit (train) the model only with the training set. And then measure the model performance using the test set samples. The more similar are the test output with the model prediction, the better the model performance.\n",
    "\n",
    "<img src=\"images/3_model_prediction.png\">"
   ]
  },
  {
   "cell_type": "markdown",
   "metadata": {},
   "source": [
    "# Classification models\n",
    "\n",
    "In supervised learning, a classification problem is learning to recognize and differentiate between different categories. In this case, the output variable is categoric.\n",
    "\n",
    "<img src=\"images/3_classification_model.png\">\n",
    "\n",
    "The metrics that can be used for measure the model performance is:\n",
    "\n",
    "- __Accuracy__: It calculates the percentage of correct predictions. Its values range between 0 and 1, where 1 represents that all the test samples were predicted correctly.\n",
    "\n",
    "- __Confusion matrix__: It is a square matrix of $k$ rows and $k$ columns, where $k$ is the number of categories or classes. Each row and column represent the test and predicted values, respectively. A cell represents the percentage of test samples of the row class that were predicted as the column class. [See examples](https://www.google.com/search?q=confusion+matrix&safe=strict&rlz=1C1SQJL_enMX896MX896&sxsrf=ALeKk02iWJmbBvoa33V3yuZzuipCVsAUIw:1613677866489&source=lnms&tbm=isch&sa=X&ved=2ahUKEwii9o3AmvTuAhVRgK0KHTfmDJsQ_AUoAXoECAMQAw&biw=1366&bih=568#imgrc=K0n9jpqveNQ1vM).\n",
    "\n",
    "If we have a binary classification problem, 1(true) or 0(false), we can divide the samples into true positives, true negatives, false negatives, and false positives.  For example, a clinic test for a specific illness. \n",
    "\n",
    "- True positives ($tp$): The number of samples correctly predicted as belonging to the positive class.\n",
    "- False positives ($fp$): The number of samples incorrectly predicted as belonging to the positive class.\n",
    "- True negatives ($tn$): The number of samples correctly predicted as NOT belonging to the positive class.\n",
    "- False negatives ($fn$): The number of samples incorrectly predicted as NOT belonging to the positive class.\n",
    "\n",
    "With these values, we can calculate:\n",
    "\n",
    "- __Precision__: $ = \\frac{tp}{tp+fp}$. Of all the samples predicted as 1, how many were 1.\n",
    "- __Recall__: $ = \\frac{tp}{tp+fn}$. Of all the samples that were 1, how many were predicted as 1.\n",
    "- __F1__: $= 2 * \\frac{precision * recall}{precision + recall}$. It is like a average between precision and recall.\n",
    "\n",
    "The values of these metrics (precision, recall, and f1 score) range between 0 and 1, where 1 represents that all the predictions are correct.\n",
    "\n",
    "To generalize, when we have a multi-classification problem (more than 2 classes), we can use Macro-Precision, Macro-Recall, and Macro-F1 scores. The term macro means that the metrics are calculated for each class, and then the result is the average of all classes' scores."
   ]
  },
  {
   "cell_type": "markdown",
   "metadata": {},
   "source": [
    "# Regression models\n",
    "\n",
    "In supervised learning, a regression problem consists into predict an output variable based on several input variables. In this case, the output variable is numeric.\n",
    "\n",
    "<img src=\"images/3_regression_model.png\">"
   ]
  },
  {
   "cell_type": "markdown",
   "metadata": {},
   "source": [
    "The metrics that can be used for measure the model performance is:\n",
    "\n",
    "- __Mean Absolute Error (MAE)__: It is the average of the differences -between the real output value $y_i$ and the predicted one $\\hat{y_i}$. \n",
    "\n",
    "$ MAE(y,\\hat{y}) = \\frac{1}{n_{samples}} \\sum_i |y_i - \\hat{y_i}|$\n",
    "\n",
    "- __Mean Square Error (MSE)__: It is the average of the square differences -between the real output value $y_i$ and the predicted one $\\hat{y_i}$. \n",
    "\n",
    "$ MSE(y,\\hat{y}) = \\frac{1}{n_{samples}} \\sum_i (y_i - \\hat{y_i})^2$\n",
    "\n",
    "Also, we can visualize the error using an scatter plot of the real output values and the predicted ones. "
   ]
  },
  {
   "cell_type": "code",
   "execution_count": null,
   "metadata": {},
   "outputs": [],
   "source": []
  }
 ],
 "metadata": {
  "kernelspec": {
   "display_name": "Python 3",
   "language": "python",
   "name": "python3"
  },
  "language_info": {
   "codemirror_mode": {
    "name": "ipython",
    "version": 3
   },
   "file_extension": ".py",
   "mimetype": "text/x-python",
   "name": "python",
   "nbconvert_exporter": "python",
   "pygments_lexer": "ipython3",
   "version": "3.7.6"
  }
 },
 "nbformat": 4,
 "nbformat_minor": 4
}
